{
 "cells": [
  {
   "cell_type": "markdown",
   "metadata": {},
   "source": [
    "# Konten <a id='back'></a>\n",
    "\n",
    "* [Pendahuluan](#intro)\n",
    "* [Tahap 1. Pendahuluan](#intro)\n",
    "* [Tahap 2. Import Library](#library_import)\n",
    "* [Tahap 3. Pra Pemrosesan Data](#observation)\n",
    "    * [3.1 Mengubah Nama Tabel]\n",
    "    * [3.2 Mencari Nilai Yang Hilang, Tipe Data, dan Duplikat]\n",
    "    * [3.3 Menambahkan Kolom Waktu Dan Tanggal]\n",
    "* [Tahap 4. Analisa Data](#observation)\n",
    "    * [4.1 Banyak Peristiwa Dalam Log]\n",
    "    * [4.2 Banyak Pengguna Dalam Log]\n",
    "    * [4.3 Rata-Rata Peristiwa Per Pengguna]\n",
    "    * [4.4 Periode Yang Tercakup Data]\n",
    "    * [4.5 Banyak Data Yang HIlang Saat Menyingkirkan Data Lama]\n",
    "    * [4.6 Memisahkan Nama Alamat]\n",
    "* [Tahap 5. Analisa Data](#observation)\n",
    "    * [5.1 Peristiwa Yang Ada Dalam Log dan Banyak Frekuensi Kemunculannya]\n",
    "    * [5.2 Jumlah Pengguna Yang Melakukan Setiap Tindakan]\n",
    "    * [5.3 Urutan Peristiwa Yang Terjadi\n",
    "    * [5.4 Persentase Pengguna Yang Terus Berlanjut Dari Satu Tahap Ke Tahap Berikutnya]\n",
    "    * [5.5 Tahap Paling Banyak Kehilangan Pengguna]\n",
    "    * [5.6 Persentase Pengguna Yang Berhasil Menyelesaikan Seluruh Tahapan Yang Ada]\n",
    "* [Tahap 6. Pelajari Hasil Eksperimen]\n",
    "    * [6.1 Pengguna Yang Ada Di Setiap Kelompok]\n",
    "    * [6.2 Melihat Perbedaan Antara Sampel 246 dan 247 Dari Sisi Statistik]\n",
    "    * [6.3 Membandingkan Satu Kelompok Dengan Kelompok Lainnya]\n",
    "    * [6.4 Yang Merupakan Ciri-Ciri Dari Jenis Usaha Berbasis Waralaba]\n",
    "* [Kesimpulan](#end)"
   ]
  },
  {
   "cell_type": "markdown",
   "metadata": {},
   "source": [
    "## Pendahuluan"
   ]
  },
  {
   "cell_type": "markdown",
   "metadata": {},
   "source": [
    "Anda bekerja di sebuah startup yang menjual produk makanan. Anda perlu mencari tahu perilaku pengguna aplikasi dari perusahaan tersebut. Perilaku dari pengguna akan dilihat dengan melakukan percobaan A/A testing dan A/B testing pada pengubahan Fot dari tulisan yang sama. Tujuannya adalah untuk mengetahui metode apa yang paling banyak diminati oleh pelanggan."
   ]
  },
  {
   "cell_type": "markdown",
   "metadata": {},
   "source": [
    "## Import Library"
   ]
  },
  {
   "cell_type": "code",
   "execution_count": 3,
   "metadata": {},
   "outputs": [],
   "source": [
    "import pandas as pd\n",
    "import numpy as np\n",
    "import seaborn as sns\n",
    "import matplotlib.pyplot as plt\n",
    "import numpy as np\n",
    "from plotly import graph_objects as go\n",
    "import plotly.express as px\n",
    "from scipy import stats\n",
    "import math\n",
    "\n",
    "import warnings\n",
    "warnings.filterwarnings('ignore')"
   ]
  },
  {
   "cell_type": "markdown",
   "metadata": {},
   "source": [
    "## Pra Pemrosesan Data"
   ]
  },
  {
   "cell_type": "code",
   "execution_count": 4,
   "metadata": {},
   "outputs": [],
   "source": [
    "df = pd.read_csv('/datasets/logs_exp_us.csv', sep='\\t')"
   ]
  },
  {
   "cell_type": "code",
   "execution_count": 5,
   "metadata": {},
   "outputs": [
    {
     "data": {
      "text/html": [
       "<div>\n",
       "<style scoped>\n",
       "    .dataframe tbody tr th:only-of-type {\n",
       "        vertical-align: middle;\n",
       "    }\n",
       "\n",
       "    .dataframe tbody tr th {\n",
       "        vertical-align: top;\n",
       "    }\n",
       "\n",
       "    .dataframe thead th {\n",
       "        text-align: right;\n",
       "    }\n",
       "</style>\n",
       "<table border=\"1\" class=\"dataframe\">\n",
       "  <thead>\n",
       "    <tr style=\"text-align: right;\">\n",
       "      <th></th>\n",
       "      <th>EventName</th>\n",
       "      <th>DeviceIDHash</th>\n",
       "      <th>EventTimestamp</th>\n",
       "      <th>ExpId</th>\n",
       "    </tr>\n",
       "  </thead>\n",
       "  <tbody>\n",
       "    <tr>\n",
       "      <th>0</th>\n",
       "      <td>MainScreenAppear</td>\n",
       "      <td>4575588528974610257</td>\n",
       "      <td>1564029816</td>\n",
       "      <td>246</td>\n",
       "    </tr>\n",
       "    <tr>\n",
       "      <th>1</th>\n",
       "      <td>MainScreenAppear</td>\n",
       "      <td>7416695313311560658</td>\n",
       "      <td>1564053102</td>\n",
       "      <td>246</td>\n",
       "    </tr>\n",
       "    <tr>\n",
       "      <th>2</th>\n",
       "      <td>PaymentScreenSuccessful</td>\n",
       "      <td>3518123091307005509</td>\n",
       "      <td>1564054127</td>\n",
       "      <td>248</td>\n",
       "    </tr>\n",
       "    <tr>\n",
       "      <th>3</th>\n",
       "      <td>CartScreenAppear</td>\n",
       "      <td>3518123091307005509</td>\n",
       "      <td>1564054127</td>\n",
       "      <td>248</td>\n",
       "    </tr>\n",
       "    <tr>\n",
       "      <th>4</th>\n",
       "      <td>PaymentScreenSuccessful</td>\n",
       "      <td>6217807653094995999</td>\n",
       "      <td>1564055322</td>\n",
       "      <td>248</td>\n",
       "    </tr>\n",
       "  </tbody>\n",
       "</table>\n",
       "</div>"
      ],
      "text/plain": [
       "                 EventName         DeviceIDHash  EventTimestamp  ExpId\n",
       "0         MainScreenAppear  4575588528974610257      1564029816    246\n",
       "1         MainScreenAppear  7416695313311560658      1564053102    246\n",
       "2  PaymentScreenSuccessful  3518123091307005509      1564054127    248\n",
       "3         CartScreenAppear  3518123091307005509      1564054127    248\n",
       "4  PaymentScreenSuccessful  6217807653094995999      1564055322    248"
      ]
     },
     "execution_count": 5,
     "metadata": {},
     "output_type": "execute_result"
    }
   ],
   "source": [
    "df.head()"
   ]
  },
  {
   "cell_type": "code",
   "execution_count": 6,
   "metadata": {},
   "outputs": [
    {
     "data": {
      "text/plain": [
       "(244126, 4)"
      ]
     },
     "execution_count": 6,
     "metadata": {},
     "output_type": "execute_result"
    }
   ],
   "source": [
    "df.shape"
   ]
  },
  {
   "cell_type": "code",
   "execution_count": 7,
   "metadata": {
    "scrolled": true
   },
   "outputs": [
    {
     "name": "stdout",
     "output_type": "stream",
     "text": [
      "<class 'pandas.core.frame.DataFrame'>\n",
      "RangeIndex: 244126 entries, 0 to 244125\n",
      "Data columns (total 4 columns):\n",
      " #   Column          Non-Null Count   Dtype \n",
      "---  ------          --------------   ----- \n",
      " 0   EventName       244126 non-null  object\n",
      " 1   DeviceIDHash    244126 non-null  int64 \n",
      " 2   EventTimestamp  244126 non-null  int64 \n",
      " 3   ExpId           244126 non-null  int64 \n",
      "dtypes: int64(3), object(1)\n",
      "memory usage: 7.5+ MB\n"
     ]
    }
   ],
   "source": [
    "df.info()"
   ]
  },
  {
   "cell_type": "markdown",
   "metadata": {},
   "source": [
    "### Mengubah Nama Tabel"
   ]
  },
  {
   "cell_type": "code",
   "execution_count": 8,
   "metadata": {},
   "outputs": [],
   "source": [
    "df.rename(columns={\n",
    "    'EventName': 'event',\n",
    "    'DeviceIDHash': 'user_id',\n",
    "    'EventTimestamp': 'timestamp',\n",
    "    'ExpId': 'exp_id'\n",
    "}, inplace=True)"
   ]
  },
  {
   "cell_type": "code",
   "execution_count": 9,
   "metadata": {
    "scrolled": true
   },
   "outputs": [
    {
     "data": {
      "text/plain": [
       "Index(['event', 'user_id', 'timestamp', 'exp_id'], dtype='object')"
      ]
     },
     "execution_count": 9,
     "metadata": {},
     "output_type": "execute_result"
    }
   ],
   "source": [
    "df.columns"
   ]
  },
  {
   "cell_type": "markdown",
   "metadata": {},
   "source": [
    "### Mencari Nilai Yang Hilang, Tipe Data, dan Duplikat"
   ]
  },
  {
   "cell_type": "code",
   "execution_count": 10,
   "metadata": {
    "scrolled": false
   },
   "outputs": [
    {
     "data": {
      "text/plain": [
       "event        0\n",
       "user_id      0\n",
       "timestamp    0\n",
       "exp_id       0\n",
       "dtype: int64"
      ]
     },
     "execution_count": 10,
     "metadata": {},
     "output_type": "execute_result"
    }
   ],
   "source": [
    "df.isna().sum()"
   ]
  },
  {
   "cell_type": "code",
   "execution_count": 11,
   "metadata": {},
   "outputs": [
    {
     "data": {
      "text/plain": [
       "event        object\n",
       "user_id       int64\n",
       "timestamp     int64\n",
       "exp_id        int64\n",
       "dtype: object"
      ]
     },
     "execution_count": 11,
     "metadata": {},
     "output_type": "execute_result"
    }
   ],
   "source": [
    "df.dtypes"
   ]
  },
  {
   "cell_type": "code",
   "execution_count": 12,
   "metadata": {},
   "outputs": [
    {
     "data": {
      "text/plain": [
       "413"
      ]
     },
     "execution_count": 12,
     "metadata": {},
     "output_type": "execute_result"
    }
   ],
   "source": [
    "df.duplicated().sum()"
   ]
  },
  {
   "cell_type": "code",
   "execution_count": 13,
   "metadata": {},
   "outputs": [],
   "source": [
    "df = df.drop_duplicates().reset_index(drop=True)"
   ]
  },
  {
   "cell_type": "markdown",
   "metadata": {},
   "source": [
    "### Menambahkan Kolom Waktu Dan Tanggal"
   ]
  },
  {
   "cell_type": "code",
   "execution_count": 14,
   "metadata": {},
   "outputs": [],
   "source": [
    "df['date_time'] = pd.to_datetime(df['timestamp'], unit='s')"
   ]
  },
  {
   "cell_type": "code",
   "execution_count": 15,
   "metadata": {},
   "outputs": [
    {
     "data": {
      "text/html": [
       "<div>\n",
       "<style scoped>\n",
       "    .dataframe tbody tr th:only-of-type {\n",
       "        vertical-align: middle;\n",
       "    }\n",
       "\n",
       "    .dataframe tbody tr th {\n",
       "        vertical-align: top;\n",
       "    }\n",
       "\n",
       "    .dataframe thead th {\n",
       "        text-align: right;\n",
       "    }\n",
       "</style>\n",
       "<table border=\"1\" class=\"dataframe\">\n",
       "  <thead>\n",
       "    <tr style=\"text-align: right;\">\n",
       "      <th></th>\n",
       "      <th>event</th>\n",
       "      <th>user_id</th>\n",
       "      <th>timestamp</th>\n",
       "      <th>exp_id</th>\n",
       "      <th>date_time</th>\n",
       "    </tr>\n",
       "  </thead>\n",
       "  <tbody>\n",
       "    <tr>\n",
       "      <th>0</th>\n",
       "      <td>MainScreenAppear</td>\n",
       "      <td>4575588528974610257</td>\n",
       "      <td>1564029816</td>\n",
       "      <td>246</td>\n",
       "      <td>2019-07-25 04:43:36</td>\n",
       "    </tr>\n",
       "    <tr>\n",
       "      <th>1</th>\n",
       "      <td>MainScreenAppear</td>\n",
       "      <td>7416695313311560658</td>\n",
       "      <td>1564053102</td>\n",
       "      <td>246</td>\n",
       "      <td>2019-07-25 11:11:42</td>\n",
       "    </tr>\n",
       "    <tr>\n",
       "      <th>2</th>\n",
       "      <td>PaymentScreenSuccessful</td>\n",
       "      <td>3518123091307005509</td>\n",
       "      <td>1564054127</td>\n",
       "      <td>248</td>\n",
       "      <td>2019-07-25 11:28:47</td>\n",
       "    </tr>\n",
       "    <tr>\n",
       "      <th>3</th>\n",
       "      <td>CartScreenAppear</td>\n",
       "      <td>3518123091307005509</td>\n",
       "      <td>1564054127</td>\n",
       "      <td>248</td>\n",
       "      <td>2019-07-25 11:28:47</td>\n",
       "    </tr>\n",
       "    <tr>\n",
       "      <th>4</th>\n",
       "      <td>PaymentScreenSuccessful</td>\n",
       "      <td>6217807653094995999</td>\n",
       "      <td>1564055322</td>\n",
       "      <td>248</td>\n",
       "      <td>2019-07-25 11:48:42</td>\n",
       "    </tr>\n",
       "  </tbody>\n",
       "</table>\n",
       "</div>"
      ],
      "text/plain": [
       "                     event              user_id   timestamp  exp_id  \\\n",
       "0         MainScreenAppear  4575588528974610257  1564029816     246   \n",
       "1         MainScreenAppear  7416695313311560658  1564053102     246   \n",
       "2  PaymentScreenSuccessful  3518123091307005509  1564054127     248   \n",
       "3         CartScreenAppear  3518123091307005509  1564054127     248   \n",
       "4  PaymentScreenSuccessful  6217807653094995999  1564055322     248   \n",
       "\n",
       "            date_time  \n",
       "0 2019-07-25 04:43:36  \n",
       "1 2019-07-25 11:11:42  \n",
       "2 2019-07-25 11:28:47  \n",
       "3 2019-07-25 11:28:47  \n",
       "4 2019-07-25 11:48:42  "
      ]
     },
     "execution_count": 15,
     "metadata": {},
     "output_type": "execute_result"
    }
   ],
   "source": [
    "df.head()"
   ]
  },
  {
   "cell_type": "code",
   "execution_count": 16,
   "metadata": {},
   "outputs": [],
   "source": [
    "df['date'] = df['date_time'].dt.floor('1D')"
   ]
  },
  {
   "cell_type": "code",
   "execution_count": 17,
   "metadata": {
    "scrolled": true
   },
   "outputs": [
    {
     "data": {
      "text/html": [
       "<div>\n",
       "<style scoped>\n",
       "    .dataframe tbody tr th:only-of-type {\n",
       "        vertical-align: middle;\n",
       "    }\n",
       "\n",
       "    .dataframe tbody tr th {\n",
       "        vertical-align: top;\n",
       "    }\n",
       "\n",
       "    .dataframe thead th {\n",
       "        text-align: right;\n",
       "    }\n",
       "</style>\n",
       "<table border=\"1\" class=\"dataframe\">\n",
       "  <thead>\n",
       "    <tr style=\"text-align: right;\">\n",
       "      <th></th>\n",
       "      <th>event</th>\n",
       "      <th>user_id</th>\n",
       "      <th>timestamp</th>\n",
       "      <th>exp_id</th>\n",
       "      <th>date_time</th>\n",
       "      <th>date</th>\n",
       "    </tr>\n",
       "  </thead>\n",
       "  <tbody>\n",
       "    <tr>\n",
       "      <th>0</th>\n",
       "      <td>MainScreenAppear</td>\n",
       "      <td>4575588528974610257</td>\n",
       "      <td>1564029816</td>\n",
       "      <td>246</td>\n",
       "      <td>2019-07-25 04:43:36</td>\n",
       "      <td>2019-07-25</td>\n",
       "    </tr>\n",
       "    <tr>\n",
       "      <th>1</th>\n",
       "      <td>MainScreenAppear</td>\n",
       "      <td>7416695313311560658</td>\n",
       "      <td>1564053102</td>\n",
       "      <td>246</td>\n",
       "      <td>2019-07-25 11:11:42</td>\n",
       "      <td>2019-07-25</td>\n",
       "    </tr>\n",
       "    <tr>\n",
       "      <th>2</th>\n",
       "      <td>PaymentScreenSuccessful</td>\n",
       "      <td>3518123091307005509</td>\n",
       "      <td>1564054127</td>\n",
       "      <td>248</td>\n",
       "      <td>2019-07-25 11:28:47</td>\n",
       "      <td>2019-07-25</td>\n",
       "    </tr>\n",
       "    <tr>\n",
       "      <th>3</th>\n",
       "      <td>CartScreenAppear</td>\n",
       "      <td>3518123091307005509</td>\n",
       "      <td>1564054127</td>\n",
       "      <td>248</td>\n",
       "      <td>2019-07-25 11:28:47</td>\n",
       "      <td>2019-07-25</td>\n",
       "    </tr>\n",
       "    <tr>\n",
       "      <th>4</th>\n",
       "      <td>PaymentScreenSuccessful</td>\n",
       "      <td>6217807653094995999</td>\n",
       "      <td>1564055322</td>\n",
       "      <td>248</td>\n",
       "      <td>2019-07-25 11:48:42</td>\n",
       "      <td>2019-07-25</td>\n",
       "    </tr>\n",
       "  </tbody>\n",
       "</table>\n",
       "</div>"
      ],
      "text/plain": [
       "                     event              user_id   timestamp  exp_id  \\\n",
       "0         MainScreenAppear  4575588528974610257  1564029816     246   \n",
       "1         MainScreenAppear  7416695313311560658  1564053102     246   \n",
       "2  PaymentScreenSuccessful  3518123091307005509  1564054127     248   \n",
       "3         CartScreenAppear  3518123091307005509  1564054127     248   \n",
       "4  PaymentScreenSuccessful  6217807653094995999  1564055322     248   \n",
       "\n",
       "            date_time       date  \n",
       "0 2019-07-25 04:43:36 2019-07-25  \n",
       "1 2019-07-25 11:11:42 2019-07-25  \n",
       "2 2019-07-25 11:28:47 2019-07-25  \n",
       "3 2019-07-25 11:28:47 2019-07-25  \n",
       "4 2019-07-25 11:48:42 2019-07-25  "
      ]
     },
     "execution_count": 17,
     "metadata": {},
     "output_type": "execute_result"
    }
   ],
   "source": [
    "df.head()"
   ]
  },
  {
   "cell_type": "markdown",
   "metadata": {},
   "source": [
    "Pada tahap 3, dilakukan pengubahan nama kolom tabel agar lebih mudah dalam mengakses kolom-kolom yanga da pada tabel tersebut. Selain itu terdapat nilai duplikat sebanyak 413 yang mana telah dihapus dari datase. Dalam dataset tidak terdapat nilai null."
   ]
  },
  {
   "cell_type": "markdown",
   "metadata": {},
   "source": [
    "## Mempelajari dan Memeriksa Data"
   ]
  },
  {
   "cell_type": "markdown",
   "metadata": {},
   "source": [
    "### Banyak Peristiwa Dalam Log"
   ]
  },
  {
   "cell_type": "code",
   "execution_count": 18,
   "metadata": {
    "scrolled": true
   },
   "outputs": [
    {
     "name": "stdout",
     "output_type": "stream",
     "text": [
      "243713 events\n"
     ]
    }
   ],
   "source": [
    "events = len(df)\n",
    "print(f'{events} events')"
   ]
  },
  {
   "cell_type": "markdown",
   "metadata": {},
   "source": [
    "### Banyak Pengguna Dalam Log"
   ]
  },
  {
   "cell_type": "code",
   "execution_count": 19,
   "metadata": {},
   "outputs": [
    {
     "name": "stdout",
     "output_type": "stream",
     "text": [
      "7551 users\n"
     ]
    }
   ],
   "source": [
    "users = len(df['user_id'].unique())\n",
    "print(f'{users} users')"
   ]
  },
  {
   "cell_type": "markdown",
   "metadata": {},
   "source": [
    "### Rata-Rata Peristiwa Per Pengguna"
   ]
  },
  {
   "cell_type": "code",
   "execution_count": 20,
   "metadata": {},
   "outputs": [
    {
     "name": "stdout",
     "output_type": "stream",
     "text": [
      "32.0 event per user\n"
     ]
    }
   ],
   "source": [
    "event_user = events / users\n",
    "print(f'{round(event_user, 0)} event per user')"
   ]
  },
  {
   "cell_type": "code",
   "execution_count": 21,
   "metadata": {
    "scrolled": false
   },
   "outputs": [
    {
     "data": {
      "text/plain": [
       "date\n",
       "2019-07-25        9\n",
       "2019-07-26       31\n",
       "2019-07-27       55\n",
       "2019-07-28      105\n",
       "2019-07-29      184\n",
       "2019-07-30      412\n",
       "2019-07-31     2030\n",
       "2019-08-01    36141\n",
       "2019-08-02    35554\n",
       "2019-08-03    33282\n",
       "2019-08-04    32968\n",
       "2019-08-05    36058\n",
       "2019-08-06    35788\n",
       "2019-08-07    31096\n",
       "Name: user_id, dtype: int64"
      ]
     },
     "execution_count": 21,
     "metadata": {},
     "output_type": "execute_result"
    }
   ],
   "source": [
    "user_group_date = df.groupby('date')['user_id'].count()\n",
    "user_group_date"
   ]
  },
  {
   "cell_type": "code",
   "execution_count": 22,
   "metadata": {},
   "outputs": [
    {
     "data": {
      "text/plain": [
       "<AxesSubplot:xlabel='date'>"
      ]
     },
     "execution_count": 22,
     "metadata": {},
     "output_type": "execute_result"
    },
    {
     "data": {
      "image/png": "[encoded data removed]",
      "text/plain": [
       "<Figure size 432x288 with 1 Axes>"
      ]
     },
     "metadata": {
      "needs_background": "light"
     },
     "output_type": "display_data"
    }
   ],
   "source": [
    "user_group_date.plot()"
   ]
  },
  {
   "cell_type": "markdown",
   "metadata": {},
   "source": [
    "### Periode Yang Tercakup Data"
   ]
  },
  {
   "cell_type": "code",
   "execution_count": 23,
   "metadata": {},
   "outputs": [
    {
     "name": "stdout",
     "output_type": "stream",
     "text": [
      "2019-07-25 04:43:36\n",
      "2019-08-07 21:15:17\n"
     ]
    }
   ],
   "source": [
    "print(df['date_time'].min())\n",
    "print(df['date_time'].max())"
   ]
  },
  {
   "cell_type": "code",
   "execution_count": 24,
   "metadata": {},
   "outputs": [
    {
     "data": {
      "image/png": "[encoded data removed]",
      "text/plain": [
       "<Figure size 1008x360 with 1 Axes>"
      ]
     },
     "metadata": {
      "needs_background": "light"
     },
     "output_type": "display_data"
    }
   ],
   "source": [
    "df['date_time'].hist(bins=100, figsize=(14, 5));"
   ]
  },
  {
   "cell_type": "code",
   "execution_count": 25,
   "metadata": {},
   "outputs": [
    {
     "data": {
      "text/plain": [
       "<AxesSubplot:xlabel='date'>"
      ]
     },
     "execution_count": 25,
     "metadata": {},
     "output_type": "execute_result"
    },
    {
     "data": {
      "image/png": "[encoded data removed]",
      "text/plain": [
       "<Figure size 432x288 with 1 Axes>"
      ]
     },
     "metadata": {
      "needs_background": "light"
     },
     "output_type": "display_data"
    }
   ],
   "source": [
    "df.pivot_table(index='date', values='user_id', aggfunc='count').plot(style='o-', grid=True)"
   ]
  },
  {
   "cell_type": "code",
   "execution_count": 26,
   "metadata": {},
   "outputs": [],
   "source": [
    "df_filtered = df.query('date_time > \"2019-07-31 21:00\"')"
   ]
  },
  {
   "cell_type": "code",
   "execution_count": 27,
   "metadata": {},
   "outputs": [
    {
     "data": {
      "text/html": [
       "<div>\n",
       "<style scoped>\n",
       "    .dataframe tbody tr th:only-of-type {\n",
       "        vertical-align: middle;\n",
       "    }\n",
       "\n",
       "    .dataframe tbody tr th {\n",
       "        vertical-align: top;\n",
       "    }\n",
       "\n",
       "    .dataframe thead th {\n",
       "        text-align: right;\n",
       "    }\n",
       "</style>\n",
       "<table border=\"1\" class=\"dataframe\">\n",
       "  <thead>\n",
       "    <tr style=\"text-align: right;\">\n",
       "      <th></th>\n",
       "      <th>event</th>\n",
       "      <th>user_id</th>\n",
       "      <th>timestamp</th>\n",
       "      <th>exp_id</th>\n",
       "      <th>date_time</th>\n",
       "      <th>date</th>\n",
       "    </tr>\n",
       "  </thead>\n",
       "  <tbody>\n",
       "    <tr>\n",
       "      <th>1989</th>\n",
       "      <td>MainScreenAppear</td>\n",
       "      <td>7701922487875823903</td>\n",
       "      <td>1564606857</td>\n",
       "      <td>247</td>\n",
       "      <td>2019-07-31 21:00:57</td>\n",
       "      <td>2019-07-31</td>\n",
       "    </tr>\n",
       "    <tr>\n",
       "      <th>1990</th>\n",
       "      <td>MainScreenAppear</td>\n",
       "      <td>2539077412200498909</td>\n",
       "      <td>1564606905</td>\n",
       "      <td>247</td>\n",
       "      <td>2019-07-31 21:01:45</td>\n",
       "      <td>2019-07-31</td>\n",
       "    </tr>\n",
       "    <tr>\n",
       "      <th>1991</th>\n",
       "      <td>OffersScreenAppear</td>\n",
       "      <td>3286987355161301427</td>\n",
       "      <td>1564606941</td>\n",
       "      <td>248</td>\n",
       "      <td>2019-07-31 21:02:21</td>\n",
       "      <td>2019-07-31</td>\n",
       "    </tr>\n",
       "    <tr>\n",
       "      <th>1992</th>\n",
       "      <td>OffersScreenAppear</td>\n",
       "      <td>3187166762535343300</td>\n",
       "      <td>1564606943</td>\n",
       "      <td>247</td>\n",
       "      <td>2019-07-31 21:02:23</td>\n",
       "      <td>2019-07-31</td>\n",
       "    </tr>\n",
       "    <tr>\n",
       "      <th>1993</th>\n",
       "      <td>MainScreenAppear</td>\n",
       "      <td>1118952406011435924</td>\n",
       "      <td>1564607005</td>\n",
       "      <td>248</td>\n",
       "      <td>2019-07-31 21:03:25</td>\n",
       "      <td>2019-07-31</td>\n",
       "    </tr>\n",
       "  </tbody>\n",
       "</table>\n",
       "</div>"
      ],
      "text/plain": [
       "                   event              user_id   timestamp  exp_id  \\\n",
       "1989    MainScreenAppear  7701922487875823903  1564606857     247   \n",
       "1990    MainScreenAppear  2539077412200498909  1564606905     247   \n",
       "1991  OffersScreenAppear  3286987355161301427  1564606941     248   \n",
       "1992  OffersScreenAppear  3187166762535343300  1564606943     247   \n",
       "1993    MainScreenAppear  1118952406011435924  1564607005     248   \n",
       "\n",
       "               date_time       date  \n",
       "1989 2019-07-31 21:00:57 2019-07-31  \n",
       "1990 2019-07-31 21:01:45 2019-07-31  \n",
       "1991 2019-07-31 21:02:21 2019-07-31  \n",
       "1992 2019-07-31 21:02:23 2019-07-31  \n",
       "1993 2019-07-31 21:03:25 2019-07-31  "
      ]
     },
     "execution_count": 27,
     "metadata": {},
     "output_type": "execute_result"
    }
   ],
   "source": [
    "df_filtered.head()"
   ]
  },
  {
   "cell_type": "code",
   "execution_count": 28,
   "metadata": {},
   "outputs": [
    {
     "data": {
      "image/png": "[encoded data removed]",
      "text/plain": [
       "<Figure size 1008x360 with 1 Axes>"
      ]
     },
     "metadata": {
      "needs_background": "light"
     },
     "output_type": "display_data"
    }
   ],
   "source": [
    "df_filtered['date_time'].hist(bins=100, figsize=(14, 5));"
   ]
  },
  {
   "cell_type": "code",
   "execution_count": 29,
   "metadata": {},
   "outputs": [
    {
     "name": "stdout",
     "output_type": "stream",
     "text": [
      "241724 events\n",
      "7538 users\n",
      "32.06739188113558 event per user\n"
     ]
    }
   ],
   "source": [
    "events_new = len(df_filtered)\n",
    "users_new = len(df_filtered['user_id'].unique())\n",
    "event_users_new = events_new / users_new\n",
    "print(f'{events_new} events')\n",
    "print(f'{users_new} users')\n",
    "print(f'{event_users_new} event per user')"
   ]
  },
  {
   "cell_type": "markdown",
   "metadata": {},
   "source": [
    "### Banyak Data Yang HIlang Saat Menyingkirkan Data Lama"
   ]
  },
  {
   "cell_type": "code",
   "execution_count": 30,
   "metadata": {},
   "outputs": [
    {
     "data": {
      "text/plain": [
       "0.8161238834202524"
      ]
     },
     "execution_count": 30,
     "metadata": {},
     "output_type": "execute_result"
    }
   ],
   "source": [
    "((df.shape[0] - df_filtered.shape[0]) / len(df)) * 100"
   ]
  },
  {
   "cell_type": "markdown",
   "metadata": {},
   "source": [
    "### Jumlah Pengguna Pada Setiap Langkah"
   ]
  },
  {
   "cell_type": "code",
   "execution_count": 31,
   "metadata": {},
   "outputs": [
    {
     "data": {
      "text/plain": [
       "248    85582\n",
       "246    80181\n",
       "247    77950\n",
       "Name: exp_id, dtype: int64"
      ]
     },
     "execution_count": 31,
     "metadata": {},
     "output_type": "execute_result"
    }
   ],
   "source": [
    "df['exp_id'].value_counts()"
   ]
  },
  {
   "cell_type": "code",
   "execution_count": 32,
   "metadata": {
    "scrolled": true
   },
   "outputs": [
    {
     "data": {
      "text/plain": [
       "248    84875\n",
       "246    79556\n",
       "247    77293\n",
       "Name: exp_id, dtype: int64"
      ]
     },
     "execution_count": 32,
     "metadata": {},
     "output_type": "execute_result"
    }
   ],
   "source": [
    "df_filtered['exp_id'].value_counts()"
   ]
  },
  {
   "cell_type": "code",
   "execution_count": 33,
   "metadata": {
    "scrolled": true
   },
   "outputs": [
    {
     "data": {
      "text/plain": [
       "248    0.991739\n",
       "246    0.992205\n",
       "247    0.991572\n",
       "Name: exp_id, dtype: float64"
      ]
     },
     "execution_count": 33,
     "metadata": {},
     "output_type": "execute_result"
    }
   ],
   "source": [
    "(df_filtered['exp_id'].value_counts()) / (df['exp_id'].value_counts())"
   ]
  },
  {
   "cell_type": "markdown",
   "metadata": {},
   "source": [
    "Dari data yang sudah dibersihkan, dapat dilihat bahwa masing-masing kelompok memiliki sisa data diatas 99% yang mana berarti data tersebut masih sangat layak untuk digunakan. Setiap kelompok pun kehilangan data tidak sampai 1%."
   ]
  },
  {
   "cell_type": "markdown",
   "metadata": {},
   "source": [
    "## Corong Peristiwa"
   ]
  },
  {
   "cell_type": "markdown",
   "metadata": {},
   "source": [
    "### Peristiwa Yang Ada Dalam Log dan Banyak Frekuensi Kemunculannya"
   ]
  },
  {
   "cell_type": "code",
   "execution_count": 34,
   "metadata": {
    "scrolled": true
   },
   "outputs": [
    {
     "data": {
      "text/html": [
       "<div>\n",
       "<style scoped>\n",
       "    .dataframe tbody tr th:only-of-type {\n",
       "        vertical-align: middle;\n",
       "    }\n",
       "\n",
       "    .dataframe tbody tr th {\n",
       "        vertical-align: top;\n",
       "    }\n",
       "\n",
       "    .dataframe thead th {\n",
       "        text-align: right;\n",
       "    }\n",
       "</style>\n",
       "<table border=\"1\" class=\"dataframe\">\n",
       "  <thead>\n",
       "    <tr style=\"text-align: right;\">\n",
       "      <th></th>\n",
       "      <th>user_id</th>\n",
       "    </tr>\n",
       "    <tr>\n",
       "      <th>event</th>\n",
       "      <th></th>\n",
       "    </tr>\n",
       "  </thead>\n",
       "  <tbody>\n",
       "    <tr>\n",
       "      <th>MainScreenAppear</th>\n",
       "      <td>117889</td>\n",
       "    </tr>\n",
       "    <tr>\n",
       "      <th>OffersScreenAppear</th>\n",
       "      <td>46531</td>\n",
       "    </tr>\n",
       "    <tr>\n",
       "      <th>CartScreenAppear</th>\n",
       "      <td>42343</td>\n",
       "    </tr>\n",
       "    <tr>\n",
       "      <th>PaymentScreenSuccessful</th>\n",
       "      <td>33951</td>\n",
       "    </tr>\n",
       "    <tr>\n",
       "      <th>Tutorial</th>\n",
       "      <td>1010</td>\n",
       "    </tr>\n",
       "  </tbody>\n",
       "</table>\n",
       "</div>"
      ],
      "text/plain": [
       "                         user_id\n",
       "event                           \n",
       "MainScreenAppear          117889\n",
       "OffersScreenAppear         46531\n",
       "CartScreenAppear           42343\n",
       "PaymentScreenSuccessful    33951\n",
       "Tutorial                    1010"
      ]
     },
     "execution_count": 34,
     "metadata": {},
     "output_type": "execute_result"
    }
   ],
   "source": [
    "df_filtered.pivot_table(index='event', values='user_id', aggfunc='count').sort_values('user_id', ascending = False)"
   ]
  },
  {
   "cell_type": "markdown",
   "metadata": {},
   "source": [
    "### Jumlah Pengguna Yang Melakukan Setiap Tindakan"
   ]
  },
  {
   "cell_type": "code",
   "execution_count": 35,
   "metadata": {},
   "outputs": [],
   "source": [
    "user_per_event = (\n",
    "    df_filtered.pivot_table(\n",
    "        index='event', \n",
    "        values='user_id',\n",
    "        aggfunc='nunique').sort_values('user_id', ascending = False))"
   ]
  },
  {
   "cell_type": "code",
   "execution_count": 36,
   "metadata": {},
   "outputs": [
    {
     "data": {
      "text/html": [
       "<div>\n",
       "<style scoped>\n",
       "    .dataframe tbody tr th:only-of-type {\n",
       "        vertical-align: middle;\n",
       "    }\n",
       "\n",
       "    .dataframe tbody tr th {\n",
       "        vertical-align: top;\n",
       "    }\n",
       "\n",
       "    .dataframe thead th {\n",
       "        text-align: right;\n",
       "    }\n",
       "</style>\n",
       "<table border=\"1\" class=\"dataframe\">\n",
       "  <thead>\n",
       "    <tr style=\"text-align: right;\">\n",
       "      <th></th>\n",
       "      <th>user_id</th>\n",
       "    </tr>\n",
       "    <tr>\n",
       "      <th>event</th>\n",
       "      <th></th>\n",
       "    </tr>\n",
       "  </thead>\n",
       "  <tbody>\n",
       "    <tr>\n",
       "      <th>MainScreenAppear</th>\n",
       "      <td>7423</td>\n",
       "    </tr>\n",
       "    <tr>\n",
       "      <th>OffersScreenAppear</th>\n",
       "      <td>4597</td>\n",
       "    </tr>\n",
       "    <tr>\n",
       "      <th>CartScreenAppear</th>\n",
       "      <td>3736</td>\n",
       "    </tr>\n",
       "    <tr>\n",
       "      <th>PaymentScreenSuccessful</th>\n",
       "      <td>3540</td>\n",
       "    </tr>\n",
       "    <tr>\n",
       "      <th>Tutorial</th>\n",
       "      <td>843</td>\n",
       "    </tr>\n",
       "  </tbody>\n",
       "</table>\n",
       "</div>"
      ],
      "text/plain": [
       "                         user_id\n",
       "event                           \n",
       "MainScreenAppear            7423\n",
       "OffersScreenAppear          4597\n",
       "CartScreenAppear            3736\n",
       "PaymentScreenSuccessful     3540\n",
       "Tutorial                     843"
      ]
     },
     "execution_count": 36,
     "metadata": {},
     "output_type": "execute_result"
    }
   ],
   "source": [
    "user_per_event"
   ]
  },
  {
   "cell_type": "code",
   "execution_count": 37,
   "metadata": {},
   "outputs": [
    {
     "data": {
      "text/html": [
       "<div>\n",
       "<style scoped>\n",
       "    .dataframe tbody tr th:only-of-type {\n",
       "        vertical-align: middle;\n",
       "    }\n",
       "\n",
       "    .dataframe tbody tr th {\n",
       "        vertical-align: top;\n",
       "    }\n",
       "\n",
       "    .dataframe thead th {\n",
       "        text-align: right;\n",
       "    }\n",
       "</style>\n",
       "<table border=\"1\" class=\"dataframe\">\n",
       "  <thead>\n",
       "    <tr style=\"text-align: right;\">\n",
       "      <th></th>\n",
       "      <th>user_id</th>\n",
       "    </tr>\n",
       "    <tr>\n",
       "      <th>event</th>\n",
       "      <th></th>\n",
       "    </tr>\n",
       "  </thead>\n",
       "  <tbody>\n",
       "    <tr>\n",
       "      <th>MainScreenAppear</th>\n",
       "      <td>0.984744</td>\n",
       "    </tr>\n",
       "    <tr>\n",
       "      <th>OffersScreenAppear</th>\n",
       "      <td>0.609843</td>\n",
       "    </tr>\n",
       "    <tr>\n",
       "      <th>CartScreenAppear</th>\n",
       "      <td>0.495622</td>\n",
       "    </tr>\n",
       "    <tr>\n",
       "      <th>PaymentScreenSuccessful</th>\n",
       "      <td>0.469621</td>\n",
       "    </tr>\n",
       "    <tr>\n",
       "      <th>Tutorial</th>\n",
       "      <td>0.111833</td>\n",
       "    </tr>\n",
       "  </tbody>\n",
       "</table>\n",
       "</div>"
      ],
      "text/plain": [
       "                          user_id\n",
       "event                            \n",
       "MainScreenAppear         0.984744\n",
       "OffersScreenAppear       0.609843\n",
       "CartScreenAppear         0.495622\n",
       "PaymentScreenSuccessful  0.469621\n",
       "Tutorial                 0.111833"
      ]
     },
     "execution_count": 37,
     "metadata": {},
     "output_type": "execute_result"
    }
   ],
   "source": [
    "user_per_event / df_filtered['user_id'].nunique()"
   ]
  },
  {
   "cell_type": "markdown",
   "metadata": {},
   "source": [
    "### Urutan Peristiwa Yang Terjadi"
   ]
  },
  {
   "cell_type": "markdown",
   "metadata": {},
   "source": [
    "Peristiwa yang terjadi dapat diurutkan sebagai berikut:\n",
    "1. Pembeli masuk terlebih dahulu ke MainScreenAppear, tapi ada beberapa pembeli yang masuk terlebih dahulu ke dalam Tutorial.\n",
    "2. Pembeli akan diarahkan ke halaman OffersScreenAppear yang mana lanjutan dari MainScreenAppear.\n",
    "3. Selanjutnya diarahkan ke CartScreenAppear.\n",
    "4. Terakhir adalah PaymentScreenSuccessful."
   ]
  },
  {
   "cell_type": "markdown",
   "metadata": {},
   "source": [
    "###  Persentase Pengguna Yang Terus Berlanjut Dari Satu Tahap Ke Tahap Berikutnya"
   ]
  },
  {
   "cell_type": "code",
   "execution_count": 38,
   "metadata": {},
   "outputs": [
    {
     "data": {
      "text/html": [
       "<div>\n",
       "<style scoped>\n",
       "    .dataframe tbody tr th:only-of-type {\n",
       "        vertical-align: middle;\n",
       "    }\n",
       "\n",
       "    .dataframe tbody tr th {\n",
       "        vertical-align: top;\n",
       "    }\n",
       "\n",
       "    .dataframe thead th {\n",
       "        text-align: right;\n",
       "    }\n",
       "</style>\n",
       "<table border=\"1\" class=\"dataframe\">\n",
       "  <thead>\n",
       "    <tr style=\"text-align: right;\">\n",
       "      <th></th>\n",
       "      <th>user_id</th>\n",
       "    </tr>\n",
       "    <tr>\n",
       "      <th>event</th>\n",
       "      <th></th>\n",
       "    </tr>\n",
       "  </thead>\n",
       "  <tbody>\n",
       "    <tr>\n",
       "      <th>MainScreenAppear</th>\n",
       "      <td>7423</td>\n",
       "    </tr>\n",
       "    <tr>\n",
       "      <th>OffersScreenAppear</th>\n",
       "      <td>4597</td>\n",
       "    </tr>\n",
       "    <tr>\n",
       "      <th>CartScreenAppear</th>\n",
       "      <td>3736</td>\n",
       "    </tr>\n",
       "    <tr>\n",
       "      <th>PaymentScreenSuccessful</th>\n",
       "      <td>3540</td>\n",
       "    </tr>\n",
       "    <tr>\n",
       "      <th>Tutorial</th>\n",
       "      <td>843</td>\n",
       "    </tr>\n",
       "  </tbody>\n",
       "</table>\n",
       "</div>"
      ],
      "text/plain": [
       "                         user_id\n",
       "event                           \n",
       "MainScreenAppear            7423\n",
       "OffersScreenAppear          4597\n",
       "CartScreenAppear            3736\n",
       "PaymentScreenSuccessful     3540\n",
       "Tutorial                     843"
      ]
     },
     "execution_count": 38,
     "metadata": {},
     "output_type": "execute_result"
    }
   ],
   "source": [
    "user_per_event"
   ]
  },
  {
   "cell_type": "code",
   "execution_count": 39,
   "metadata": {},
   "outputs": [],
   "source": [
    "users_funnel = user_per_event[:-1]"
   ]
  },
  {
   "cell_type": "code",
   "execution_count": 40,
   "metadata": {},
   "outputs": [
    {
     "data": {
      "text/html": [
       "<div>\n",
       "<style scoped>\n",
       "    .dataframe tbody tr th:only-of-type {\n",
       "        vertical-align: middle;\n",
       "    }\n",
       "\n",
       "    .dataframe tbody tr th {\n",
       "        vertical-align: top;\n",
       "    }\n",
       "\n",
       "    .dataframe thead th {\n",
       "        text-align: right;\n",
       "    }\n",
       "</style>\n",
       "<table border=\"1\" class=\"dataframe\">\n",
       "  <thead>\n",
       "    <tr style=\"text-align: right;\">\n",
       "      <th></th>\n",
       "      <th>user_id</th>\n",
       "    </tr>\n",
       "    <tr>\n",
       "      <th>event</th>\n",
       "      <th></th>\n",
       "    </tr>\n",
       "  </thead>\n",
       "  <tbody>\n",
       "    <tr>\n",
       "      <th>MainScreenAppear</th>\n",
       "      <td>7423</td>\n",
       "    </tr>\n",
       "    <tr>\n",
       "      <th>OffersScreenAppear</th>\n",
       "      <td>4597</td>\n",
       "    </tr>\n",
       "    <tr>\n",
       "      <th>CartScreenAppear</th>\n",
       "      <td>3736</td>\n",
       "    </tr>\n",
       "    <tr>\n",
       "      <th>PaymentScreenSuccessful</th>\n",
       "      <td>3540</td>\n",
       "    </tr>\n",
       "  </tbody>\n",
       "</table>\n",
       "</div>"
      ],
      "text/plain": [
       "                         user_id\n",
       "event                           \n",
       "MainScreenAppear            7423\n",
       "OffersScreenAppear          4597\n",
       "CartScreenAppear            3736\n",
       "PaymentScreenSuccessful     3540"
      ]
     },
     "execution_count": 40,
     "metadata": {},
     "output_type": "execute_result"
    }
   ],
   "source": [
    "users_funnel"
   ]
  },
  {
   "cell_type": "code",
   "execution_count": 41,
   "metadata": {},
   "outputs": [
    {
     "data": {
      "text/html": [
       "<div>\n",
       "<style scoped>\n",
       "    .dataframe tbody tr th:only-of-type {\n",
       "        vertical-align: middle;\n",
       "    }\n",
       "\n",
       "    .dataframe tbody tr th {\n",
       "        vertical-align: top;\n",
       "    }\n",
       "\n",
       "    .dataframe thead th {\n",
       "        text-align: right;\n",
       "    }\n",
       "</style>\n",
       "<table border=\"1\" class=\"dataframe\">\n",
       "  <thead>\n",
       "    <tr style=\"text-align: right;\">\n",
       "      <th></th>\n",
       "      <th>user_id</th>\n",
       "    </tr>\n",
       "    <tr>\n",
       "      <th>event</th>\n",
       "      <th></th>\n",
       "    </tr>\n",
       "  </thead>\n",
       "  <tbody>\n",
       "    <tr>\n",
       "      <th>MainScreenAppear</th>\n",
       "      <td>1.000000</td>\n",
       "    </tr>\n",
       "    <tr>\n",
       "      <th>OffersScreenAppear</th>\n",
       "      <td>0.619291</td>\n",
       "    </tr>\n",
       "    <tr>\n",
       "      <th>CartScreenAppear</th>\n",
       "      <td>0.812704</td>\n",
       "    </tr>\n",
       "    <tr>\n",
       "      <th>PaymentScreenSuccessful</th>\n",
       "      <td>0.947537</td>\n",
       "    </tr>\n",
       "  </tbody>\n",
       "</table>\n",
       "</div>"
      ],
      "text/plain": [
       "                          user_id\n",
       "event                            \n",
       "MainScreenAppear         1.000000\n",
       "OffersScreenAppear       0.619291\n",
       "CartScreenAppear         0.812704\n",
       "PaymentScreenSuccessful  0.947537"
      ]
     },
     "execution_count": 41,
     "metadata": {},
     "output_type": "execute_result"
    }
   ],
   "source": [
    "(users_funnel / users_funnel.shift()).fillna(1)"
   ]
  },
  {
   "cell_type": "markdown",
   "metadata": {},
   "source": [
    "### Tahap Paling Banyak Kehilangan Pengguna"
   ]
  },
  {
   "cell_type": "markdown",
   "metadata": {},
   "source": [
    "Tahapan yang paling banyak kehilangan pengguna adalah pada tahapan MainScreenAppear ke OfferScreenAppear, yang mana jika dilihat dari pengolahan sebelumnya hanya sebesar 0.6 dari total pembeli awal yang melanjutkan proses."
   ]
  },
  {
   "cell_type": "markdown",
   "metadata": {},
   "source": [
    "### Persentase Pengguna Yang Berhasil Menyelesaikan Seluruh Tahapan Yang Ada"
   ]
  },
  {
   "cell_type": "code",
   "execution_count": 42,
   "metadata": {},
   "outputs": [
    {
     "data": {
      "text/plain": [
       "47.68961336386906"
      ]
     },
     "execution_count": 42,
     "metadata": {},
     "output_type": "execute_result"
    }
   ],
   "source": [
    "((user_per_event.loc['PaymentScreenSuccessful'] / user_per_event.loc['MainScreenAppear'])['user_id']) * 100"
   ]
  },
  {
   "cell_type": "markdown",
   "metadata": {},
   "source": [
    "Sebanyak 47% pembeli berhasil menyelesaikan proses dari awal sampai akhir."
   ]
  },
  {
   "cell_type": "markdown",
   "metadata": {},
   "source": [
    "## Pelajari Hasil Eksperimen"
   ]
  },
  {
   "cell_type": "markdown",
   "metadata": {},
   "source": [
    "### Pengguna Yang Ada Di Setiap Kelompok"
   ]
  },
  {
   "cell_type": "code",
   "execution_count": 43,
   "metadata": {},
   "outputs": [
    {
     "data": {
      "text/html": [
       "<div>\n",
       "<style scoped>\n",
       "    .dataframe tbody tr th:only-of-type {\n",
       "        vertical-align: middle;\n",
       "    }\n",
       "\n",
       "    .dataframe tbody tr th {\n",
       "        vertical-align: top;\n",
       "    }\n",
       "\n",
       "    .dataframe thead th {\n",
       "        text-align: right;\n",
       "    }\n",
       "</style>\n",
       "<table border=\"1\" class=\"dataframe\">\n",
       "  <thead>\n",
       "    <tr style=\"text-align: right;\">\n",
       "      <th></th>\n",
       "      <th>user_id</th>\n",
       "    </tr>\n",
       "    <tr>\n",
       "      <th>exp_id</th>\n",
       "      <th></th>\n",
       "    </tr>\n",
       "  </thead>\n",
       "  <tbody>\n",
       "    <tr>\n",
       "      <th>246</th>\n",
       "      <td>2484</td>\n",
       "    </tr>\n",
       "    <tr>\n",
       "      <th>247</th>\n",
       "      <td>2517</td>\n",
       "    </tr>\n",
       "    <tr>\n",
       "      <th>248</th>\n",
       "      <td>2537</td>\n",
       "    </tr>\n",
       "  </tbody>\n",
       "</table>\n",
       "</div>"
      ],
      "text/plain": [
       "        user_id\n",
       "exp_id         \n",
       "246        2484\n",
       "247        2517\n",
       "248        2537"
      ]
     },
     "execution_count": 43,
     "metadata": {},
     "output_type": "execute_result"
    }
   ],
   "source": [
    "user_per_group = df_filtered.pivot_table(index='exp_id',\n",
    "                                         values='user_id',\n",
    "                                         aggfunc='nunique')\n",
    "user_per_group"
   ]
  },
  {
   "cell_type": "markdown",
   "metadata": {},
   "source": [
    "### Melihat Perbedaan Antara Sampel 246 dan 247 Dari Sisi Statistik"
   ]
  },
  {
   "cell_type": "code",
   "execution_count": 44,
   "metadata": {},
   "outputs": [],
   "source": [
    "user_event_per_group = df_filtered.pivot_table(index='event',\n",
    "                                               values='user_id',\n",
    "                                               columns='exp_id',\n",
    "                                               aggfunc='nunique').sort_values(by=246, ascending=False)"
   ]
  },
  {
   "cell_type": "code",
   "execution_count": 45,
   "metadata": {},
   "outputs": [
    {
     "data": {
      "text/html": [
       "<div>\n",
       "<style scoped>\n",
       "    .dataframe tbody tr th:only-of-type {\n",
       "        vertical-align: middle;\n",
       "    }\n",
       "\n",
       "    .dataframe tbody tr th {\n",
       "        vertical-align: top;\n",
       "    }\n",
       "\n",
       "    .dataframe thead th {\n",
       "        text-align: right;\n",
       "    }\n",
       "</style>\n",
       "<table border=\"1\" class=\"dataframe\">\n",
       "  <thead>\n",
       "    <tr style=\"text-align: right;\">\n",
       "      <th>exp_id</th>\n",
       "      <th>246</th>\n",
       "      <th>247</th>\n",
       "      <th>248</th>\n",
       "    </tr>\n",
       "    <tr>\n",
       "      <th>event</th>\n",
       "      <th></th>\n",
       "      <th></th>\n",
       "      <th></th>\n",
       "    </tr>\n",
       "  </thead>\n",
       "  <tbody>\n",
       "    <tr>\n",
       "      <th>MainScreenAppear</th>\n",
       "      <td>2450</td>\n",
       "      <td>2479</td>\n",
       "      <td>2494</td>\n",
       "    </tr>\n",
       "    <tr>\n",
       "      <th>OffersScreenAppear</th>\n",
       "      <td>1542</td>\n",
       "      <td>1524</td>\n",
       "      <td>1531</td>\n",
       "    </tr>\n",
       "    <tr>\n",
       "      <th>CartScreenAppear</th>\n",
       "      <td>1266</td>\n",
       "      <td>1239</td>\n",
       "      <td>1231</td>\n",
       "    </tr>\n",
       "    <tr>\n",
       "      <th>PaymentScreenSuccessful</th>\n",
       "      <td>1200</td>\n",
       "      <td>1158</td>\n",
       "      <td>1182</td>\n",
       "    </tr>\n",
       "    <tr>\n",
       "      <th>Tutorial</th>\n",
       "      <td>278</td>\n",
       "      <td>284</td>\n",
       "      <td>281</td>\n",
       "    </tr>\n",
       "  </tbody>\n",
       "</table>\n",
       "</div>"
      ],
      "text/plain": [
       "exp_id                    246   247   248\n",
       "event                                    \n",
       "MainScreenAppear         2450  2479  2494\n",
       "OffersScreenAppear       1542  1524  1531\n",
       "CartScreenAppear         1266  1239  1231\n",
       "PaymentScreenSuccessful  1200  1158  1182\n",
       "Tutorial                  278   284   281"
      ]
     },
     "execution_count": 45,
     "metadata": {},
     "output_type": "execute_result"
    }
   ],
   "source": [
    "user_event_per_group"
   ]
  },
  {
   "cell_type": "code",
   "execution_count": 46,
   "metadata": {},
   "outputs": [],
   "source": [
    "def check_hypothesis(successes1, successes2, trials1, trials2, alpha=0.01):\n",
    "    \n",
    "    p1 = successes1/trials1\n",
    "    \n",
    "    p2 = successes2/trials2\n",
    "    \n",
    "    p_combined = (successes1 + successes2) / (trials1 + trials2)\n",
    "    \n",
    "    difference = p1 - p2\n",
    "    \n",
    "    z_value = difference / math.sqrt(p_combined * (1 - p_combined) * (1/trials1 + 1/trials2))\n",
    "    \n",
    "    distr = stats.norm(0, 1)\n",
    "    \n",
    "    z_value = difference / math.sqrt(p_combined * (1 - p_combined) * (1/trials1 + 1/trials2))\n",
    "\n",
    "    p_value = (1 - distr.cdf(abs(z_value))) * 2\n",
    "\n",
    "    print('p-value: ', p_value)\n",
    "\n",
    "    if (p_value < alpha):\n",
    "        print('Reject the null hypothesis: there is a significant difference between the shares')\n",
    "    else:\n",
    "        print('Failed to reject the null hypothesis, there is no reason to consider the shares different')"
   ]
  },
  {
   "cell_type": "markdown",
   "metadata": {},
   "source": [
    "Selanjutnya melakukan uji hipotesis dengan H0 dan H1 sebagai berikut:\n",
    "- H0 adalah kondisi dimana id 246 dan 247 SAMA\n",
    "- H1 adalah kondisi dimana id 246 dan 247 TIDAK SAMA"
   ]
  },
  {
   "cell_type": "code",
   "execution_count": 47,
   "metadata": {},
   "outputs": [
    {
     "name": "stdout",
     "output_type": "stream",
     "text": [
      "p-value:  [0.67562177]\n",
      "Failed to reject the null hypothesis, there is no reason to consider the shares different\n"
     ]
    }
   ],
   "source": [
    "check_hypothesis(user_event_per_group.loc['MainScreenAppear', 246],\n",
    "                 user_event_per_group.loc['MainScreenAppear', 247],\n",
    "                 user_per_group.loc[246],\n",
    "                 user_per_group.loc[247])"
   ]
  },
  {
   "cell_type": "code",
   "execution_count": 48,
   "metadata": {},
   "outputs": [],
   "source": [
    "def check_event_hypothesis(user_event_per_group, user_per_group,\n",
    "                           event,\n",
    "                           exp1, exp2\n",
    "                          ):\n",
    "    frac1 = user_event_per_group.loc[event, exp1] / user_per_group.loc[exp1]\n",
    "    frac2 = user_event_per_group.loc[event, exp2] / user_per_group.loc[exp2]\n",
    "    print(f'{frac1} event {event} group {exp1}')\n",
    "    print(f'{frac2} event {event} group {exp2}')\n",
    "    check_hypothesis(user_event_per_group.loc[event, exp1],\n",
    "                     user_event_per_group.loc[event, exp2],\n",
    "                     user_per_group.loc[exp1],\n",
    "                     user_per_group.loc[exp2],\n",
    "                    )"
   ]
  },
  {
   "cell_type": "code",
   "execution_count": 49,
   "metadata": {},
   "outputs": [
    {
     "name": "stdout",
     "output_type": "stream",
     "text": [
      "user_id    0.986312\n",
      "Name: 246, dtype: float64 event MainScreenAppear group 246\n",
      "user_id    0.984903\n",
      "Name: 247, dtype: float64 event MainScreenAppear group 247\n",
      "p-value:  [0.67562177]\n",
      "Failed to reject the null hypothesis, there is no reason to consider the shares different\n",
      "\n",
      "user_id    0.620773\n",
      "Name: 246, dtype: float64 event OffersScreenAppear group 246\n",
      "user_id    0.605483\n",
      "Name: 247, dtype: float64 event OffersScreenAppear group 247\n",
      "p-value:  [0.26698769]\n",
      "Failed to reject the null hypothesis, there is no reason to consider the shares different\n",
      "\n",
      "user_id    0.509662\n",
      "Name: 246, dtype: float64 event CartScreenAppear group 246\n",
      "user_id    0.492253\n",
      "Name: 247, dtype: float64 event CartScreenAppear group 247\n",
      "p-value:  [0.21828121]\n",
      "Failed to reject the null hypothesis, there is no reason to consider the shares different\n",
      "\n",
      "user_id    0.483092\n",
      "Name: 246, dtype: float64 event PaymentScreenSuccessful group 246\n",
      "user_id    0.460072\n",
      "Name: 247, dtype: float64 event PaymentScreenSuccessful group 247\n",
      "p-value:  [0.10298395]\n",
      "Failed to reject the null hypothesis, there is no reason to consider the shares different\n",
      "\n",
      "user_id    0.111916\n",
      "Name: 246, dtype: float64 event Tutorial group 246\n",
      "user_id    0.112833\n",
      "Name: 247, dtype: float64 event Tutorial group 247\n",
      "p-value:  [0.91827903]\n",
      "Failed to reject the null hypothesis, there is no reason to consider the shares different\n",
      "\n"
     ]
    }
   ],
   "source": [
    "for event in user_event_per_group.index:\n",
    "    check_event_hypothesis(user_event_per_group, user_per_group, event, 246, 247)\n",
    "    print()"
   ]
  },
  {
   "cell_type": "markdown",
   "metadata": {},
   "source": [
    "### Membandingkan Satu Kelompok Dengan Kelompok Lainnya"
   ]
  },
  {
   "cell_type": "markdown",
   "metadata": {},
   "source": [
    "Uji hipotesis dilakukan dengan kondisi sebagai berikut:\n",
    "- H0 kondisi dimana id 246 dan 247 adalah SAMA\n",
    "- H1 kondisi dimana id 246 dan 247 adalah TIDAK SAMA"
   ]
  },
  {
   "cell_type": "code",
   "execution_count": 50,
   "metadata": {
    "scrolled": true
   },
   "outputs": [
    {
     "name": "stdout",
     "output_type": "stream",
     "text": [
      "user_id    0.986312\n",
      "Name: 246, dtype: float64 event MainScreenAppear group 246\n",
      "user_id    0.984903\n",
      "Name: 247, dtype: float64 event MainScreenAppear group 247\n",
      "p-value:  [0.67562177]\n",
      "Failed to reject the null hypothesis, there is no reason to consider the shares different\n",
      "\n",
      "user_id    0.620773\n",
      "Name: 246, dtype: float64 event OffersScreenAppear group 246\n",
      "user_id    0.605483\n",
      "Name: 247, dtype: float64 event OffersScreenAppear group 247\n",
      "p-value:  [0.26698769]\n",
      "Failed to reject the null hypothesis, there is no reason to consider the shares different\n",
      "\n",
      "user_id    0.509662\n",
      "Name: 246, dtype: float64 event CartScreenAppear group 246\n",
      "user_id    0.492253\n",
      "Name: 247, dtype: float64 event CartScreenAppear group 247\n",
      "p-value:  [0.21828121]\n",
      "Failed to reject the null hypothesis, there is no reason to consider the shares different\n",
      "\n",
      "user_id    0.483092\n",
      "Name: 246, dtype: float64 event PaymentScreenSuccessful group 246\n",
      "user_id    0.460072\n",
      "Name: 247, dtype: float64 event PaymentScreenSuccessful group 247\n",
      "p-value:  [0.10298395]\n",
      "Failed to reject the null hypothesis, there is no reason to consider the shares different\n",
      "\n",
      "user_id    0.111916\n",
      "Name: 246, dtype: float64 event Tutorial group 246\n",
      "user_id    0.112833\n",
      "Name: 247, dtype: float64 event Tutorial group 247\n",
      "p-value:  [0.91827903]\n",
      "Failed to reject the null hypothesis, there is no reason to consider the shares different\n",
      "\n"
     ]
    }
   ],
   "source": [
    "for event in user_event_per_group.index:\n",
    "    check_event_hypothesis(user_event_per_group, user_per_group, event, 246, 247)\n",
    "    print()"
   ]
  },
  {
   "cell_type": "markdown",
   "metadata": {},
   "source": [
    "Uji hipotesis dilakukan untuk kondisi sebagai berikut:\n",
    "- H0 jika id 246 dan 248 adalah SAMA\n",
    "- H1 jika id 246 dan 248 adalah TIDAK SAMA"
   ]
  },
  {
   "cell_type": "code",
   "execution_count": 51,
   "metadata": {
    "scrolled": false
   },
   "outputs": [
    {
     "name": "stdout",
     "output_type": "stream",
     "text": [
      "user_id    0.986312\n",
      "Name: 246, dtype: float64 event MainScreenAppear group 246\n",
      "user_id    0.983051\n",
      "Name: 248, dtype: float64 event MainScreenAppear group 248\n",
      "p-value:  [0.34705881]\n",
      "Failed to reject the null hypothesis, there is no reason to consider the shares different\n",
      "\n",
      "user_id    0.620773\n",
      "Name: 246, dtype: float64 event OffersScreenAppear group 246\n",
      "user_id    0.603469\n",
      "Name: 248, dtype: float64 event OffersScreenAppear group 248\n",
      "p-value:  [0.20836205]\n",
      "Failed to reject the null hypothesis, there is no reason to consider the shares different\n",
      "\n",
      "user_id    0.509662\n",
      "Name: 246, dtype: float64 event CartScreenAppear group 246\n",
      "user_id    0.485219\n",
      "Name: 248, dtype: float64 event CartScreenAppear group 248\n",
      "p-value:  [0.08328413]\n",
      "Failed to reject the null hypothesis, there is no reason to consider the shares different\n",
      "\n",
      "user_id    0.483092\n",
      "Name: 246, dtype: float64 event PaymentScreenSuccessful group 246\n",
      "user_id    0.465905\n",
      "Name: 248, dtype: float64 event PaymentScreenSuccessful group 248\n",
      "p-value:  [0.22269359]\n",
      "Failed to reject the null hypothesis, there is no reason to consider the shares different\n",
      "\n",
      "user_id    0.111916\n",
      "Name: 246, dtype: float64 event Tutorial group 246\n",
      "user_id    0.110761\n",
      "Name: 248, dtype: float64 event Tutorial group 248\n",
      "p-value:  [0.89644896]\n",
      "Failed to reject the null hypothesis, there is no reason to consider the shares different\n",
      "\n"
     ]
    }
   ],
   "source": [
    "for event in user_event_per_group.index:\n",
    "    check_event_hypothesis(user_event_per_group, user_per_group, event, 246, 248)\n",
    "    print()"
   ]
  },
  {
   "cell_type": "markdown",
   "metadata": {},
   "source": [
    "Uji hipotesis dilakukan untuk kondisi sebagai berikut:\n",
    "- H0 jika id 247 dan 248 adalah SAMA\n",
    "- H1 jika id 247 dan 248 adalah TIDAK SAMA"
   ]
  },
  {
   "cell_type": "code",
   "execution_count": 52,
   "metadata": {},
   "outputs": [
    {
     "name": "stdout",
     "output_type": "stream",
     "text": [
      "user_id    0.984903\n",
      "Name: 247, dtype: float64 event MainScreenAppear group 247\n",
      "user_id    0.983051\n",
      "Name: 248, dtype: float64 event MainScreenAppear group 248\n",
      "p-value:  [0.60016616]\n",
      "Failed to reject the null hypothesis, there is no reason to consider the shares different\n",
      "\n",
      "user_id    0.605483\n",
      "Name: 247, dtype: float64 event OffersScreenAppear group 247\n",
      "user_id    0.603469\n",
      "Name: 248, dtype: float64 event OffersScreenAppear group 248\n",
      "p-value:  [0.88359567]\n",
      "Failed to reject the null hypothesis, there is no reason to consider the shares different\n",
      "\n",
      "user_id    0.492253\n",
      "Name: 247, dtype: float64 event CartScreenAppear group 247\n",
      "user_id    0.485219\n",
      "Name: 248, dtype: float64 event CartScreenAppear group 248\n",
      "p-value:  [0.61695175]\n",
      "Failed to reject the null hypothesis, there is no reason to consider the shares different\n",
      "\n",
      "user_id    0.460072\n",
      "Name: 247, dtype: float64 event PaymentScreenSuccessful group 247\n",
      "user_id    0.465905\n",
      "Name: 248, dtype: float64 event PaymentScreenSuccessful group 248\n",
      "p-value:  [0.67754136]\n",
      "Failed to reject the null hypothesis, there is no reason to consider the shares different\n",
      "\n",
      "user_id    0.112833\n",
      "Name: 247, dtype: float64 event Tutorial group 247\n",
      "user_id    0.110761\n",
      "Name: 248, dtype: float64 event Tutorial group 248\n",
      "p-value:  [0.8151967]\n",
      "Failed to reject the null hypothesis, there is no reason to consider the shares different\n",
      "\n"
     ]
    }
   ],
   "source": [
    "for event in user_event_per_group.index:\n",
    "    check_event_hypothesis(user_event_per_group, user_per_group, event, 247, 248)\n",
    "    print()"
   ]
  },
  {
   "cell_type": "code",
   "execution_count": 53,
   "metadata": {},
   "outputs": [],
   "source": [
    "user_event_per_group_control = user_event_per_group.copy()\n",
    "user_event_per_group_control.loc[:,247] += user_event_per_group_control.loc[:,246]\n",
    "user_event_per_group_control.drop(columns=246, inplace=True)"
   ]
  },
  {
   "cell_type": "code",
   "execution_count": 54,
   "metadata": {},
   "outputs": [
    {
     "data": {
      "text/html": [
       "<div>\n",
       "<style scoped>\n",
       "    .dataframe tbody tr th:only-of-type {\n",
       "        vertical-align: middle;\n",
       "    }\n",
       "\n",
       "    .dataframe tbody tr th {\n",
       "        vertical-align: top;\n",
       "    }\n",
       "\n",
       "    .dataframe thead th {\n",
       "        text-align: right;\n",
       "    }\n",
       "</style>\n",
       "<table border=\"1\" class=\"dataframe\">\n",
       "  <thead>\n",
       "    <tr style=\"text-align: right;\">\n",
       "      <th>exp_id</th>\n",
       "      <th>247</th>\n",
       "      <th>248</th>\n",
       "    </tr>\n",
       "    <tr>\n",
       "      <th>event</th>\n",
       "      <th></th>\n",
       "      <th></th>\n",
       "    </tr>\n",
       "  </thead>\n",
       "  <tbody>\n",
       "    <tr>\n",
       "      <th>MainScreenAppear</th>\n",
       "      <td>4929</td>\n",
       "      <td>2494</td>\n",
       "    </tr>\n",
       "    <tr>\n",
       "      <th>OffersScreenAppear</th>\n",
       "      <td>3066</td>\n",
       "      <td>1531</td>\n",
       "    </tr>\n",
       "    <tr>\n",
       "      <th>CartScreenAppear</th>\n",
       "      <td>2505</td>\n",
       "      <td>1231</td>\n",
       "    </tr>\n",
       "    <tr>\n",
       "      <th>PaymentScreenSuccessful</th>\n",
       "      <td>2358</td>\n",
       "      <td>1182</td>\n",
       "    </tr>\n",
       "    <tr>\n",
       "      <th>Tutorial</th>\n",
       "      <td>562</td>\n",
       "      <td>281</td>\n",
       "    </tr>\n",
       "  </tbody>\n",
       "</table>\n",
       "</div>"
      ],
      "text/plain": [
       "exp_id                    247   248\n",
       "event                              \n",
       "MainScreenAppear         4929  2494\n",
       "OffersScreenAppear       3066  1531\n",
       "CartScreenAppear         2505  1231\n",
       "PaymentScreenSuccessful  2358  1182\n",
       "Tutorial                  562   281"
      ]
     },
     "execution_count": 54,
     "metadata": {},
     "output_type": "execute_result"
    }
   ],
   "source": [
    "user_event_per_group_control"
   ]
  },
  {
   "cell_type": "code",
   "execution_count": 55,
   "metadata": {
    "scrolled": true
   },
   "outputs": [
    {
     "data": {
      "text/html": [
       "<div>\n",
       "<style scoped>\n",
       "    .dataframe tbody tr th:only-of-type {\n",
       "        vertical-align: middle;\n",
       "    }\n",
       "\n",
       "    .dataframe tbody tr th {\n",
       "        vertical-align: top;\n",
       "    }\n",
       "\n",
       "    .dataframe thead th {\n",
       "        text-align: right;\n",
       "    }\n",
       "</style>\n",
       "<table border=\"1\" class=\"dataframe\">\n",
       "  <thead>\n",
       "    <tr style=\"text-align: right;\">\n",
       "      <th></th>\n",
       "      <th>user_id</th>\n",
       "    </tr>\n",
       "    <tr>\n",
       "      <th>exp_id</th>\n",
       "      <th></th>\n",
       "    </tr>\n",
       "  </thead>\n",
       "  <tbody>\n",
       "    <tr>\n",
       "      <th>247</th>\n",
       "      <td>5001</td>\n",
       "    </tr>\n",
       "    <tr>\n",
       "      <th>248</th>\n",
       "      <td>2537</td>\n",
       "    </tr>\n",
       "  </tbody>\n",
       "</table>\n",
       "</div>"
      ],
      "text/plain": [
       "        user_id\n",
       "exp_id         \n",
       "247        5001\n",
       "248        2537"
      ]
     },
     "execution_count": 55,
     "metadata": {},
     "output_type": "execute_result"
    }
   ],
   "source": [
    "user_per_group_control = user_per_group.copy()\n",
    "user_per_group_control.loc[247] += user_per_group_control.loc[246]\n",
    "user_per_group_control.drop(246, inplace=True)\n",
    "user_per_group_control"
   ]
  },
  {
   "cell_type": "markdown",
   "metadata": {},
   "source": [
    "Uji hipotesis dilakukan untuk kondisi sebagai berikut:\n",
    "- H0 jika id gabungan (246 dan 247) dan 248 adalah SAMA\n",
    "- H1 jika id gabungan (246 dan 247) dan 248 adalah TIDAK SAMA"
   ]
  },
  {
   "cell_type": "code",
   "execution_count": 56,
   "metadata": {},
   "outputs": [
    {
     "name": "stdout",
     "output_type": "stream",
     "text": [
      "user_id    0.985603\n",
      "Name: 247, dtype: float64 event MainScreenAppear group 247\n",
      "user_id    0.983051\n",
      "Name: 248, dtype: float64 event MainScreenAppear group 248\n",
      "p-value:  [0.39298915]\n",
      "Failed to reject the null hypothesis, there is no reason to consider the shares different\n",
      "\n",
      "user_id    0.613077\n",
      "Name: 247, dtype: float64 event OffersScreenAppear group 247\n",
      "user_id    0.603469\n",
      "Name: 248, dtype: float64 event OffersScreenAppear group 248\n",
      "p-value:  [0.41899828]\n",
      "Failed to reject the null hypothesis, there is no reason to consider the shares different\n",
      "\n",
      "user_id    0.5009\n",
      "Name: 247, dtype: float64 event CartScreenAppear group 247\n",
      "user_id    0.485219\n",
      "Name: 248, dtype: float64 event CartScreenAppear group 248\n",
      "p-value:  [0.19819341]\n",
      "Failed to reject the null hypothesis, there is no reason to consider the shares different\n",
      "\n",
      "user_id    0.471506\n",
      "Name: 247, dtype: float64 event PaymentScreenSuccessful group 247\n",
      "user_id    0.465905\n",
      "Name: 248, dtype: float64 event PaymentScreenSuccessful group 248\n",
      "p-value:  [0.64520577]\n",
      "Failed to reject the null hypothesis, there is no reason to consider the shares different\n",
      "\n",
      "user_id    0.112378\n",
      "Name: 247, dtype: float64 event Tutorial group 247\n",
      "user_id    0.110761\n",
      "Name: 248, dtype: float64 event Tutorial group 248\n",
      "p-value:  [0.83330491]\n",
      "Failed to reject the null hypothesis, there is no reason to consider the shares different\n",
      "\n"
     ]
    }
   ],
   "source": [
    "for event in user_event_per_group.index:\n",
    "    check_event_hypothesis(user_event_per_group_control, user_per_group_control, event, 247, 248)\n",
    "    print()"
   ]
  },
  {
   "cell_type": "markdown",
   "metadata": {},
   "source": [
    "### Mengganti NIlai Alpha Untuk Melihat Signfikansi"
   ]
  },
  {
   "cell_type": "markdown",
   "metadata": {},
   "source": [
    "Nilai alpha pada fungsi awal adalah 0.01 dan diganti dengan 0.5"
   ]
  },
  {
   "cell_type": "code",
   "execution_count": 61,
   "metadata": {},
   "outputs": [],
   "source": [
    "def check_hypothesis_new(successes1, successes2, trials1, trials2, alpha=0.5):\n",
    "    \n",
    "    p1 = successes1/trials1\n",
    "    \n",
    "    p2 = successes2/trials2\n",
    "    \n",
    "    p_combined = (successes1 + successes2) / (trials1 + trials2)\n",
    "    \n",
    "    difference = p1 - p2\n",
    "    \n",
    "    z_value = difference / math.sqrt(p_combined * (1 - p_combined) * (1/trials1 + 1/trials2))\n",
    "    \n",
    "    distr = stats.norm(0, 1)\n",
    "    \n",
    "    z_value = difference / math.sqrt(p_combined * (1 - p_combined) * (1/trials1 + 1/trials2))\n",
    "\n",
    "    p_value = (1 - distr.cdf(abs(z_value))) * 2\n",
    "\n",
    "    print('p-value: ', p_value)\n",
    "\n",
    "    if (p_value < alpha):\n",
    "        print('Reject the null hypothesis: there is a significant difference between the shares')\n",
    "    else:\n",
    "        print('Failed to reject the null hypothesis, there is no reason to consider the shares different')"
   ]
  },
  {
   "cell_type": "markdown",
   "metadata": {},
   "source": [
    "Uji hipotesis dilakukan untuk kondisi sebagai berikut:\n",
    "- H0 jika id 246 dan 247 adalah SAMA\n",
    "- H1 jika id 246 dan 247 adalah TIDAK SAMA"
   ]
  },
  {
   "cell_type": "code",
   "execution_count": 63,
   "metadata": {},
   "outputs": [
    {
     "name": "stdout",
     "output_type": "stream",
     "text": [
      "p-value:  [0.67562177]\n",
      "Failed to reject the null hypothesis, there is no reason to consider the shares different\n"
     ]
    }
   ],
   "source": [
    "check_hypothesis_new(user_event_per_group.loc['MainScreenAppear', 246],\n",
    "                 user_event_per_group.loc['MainScreenAppear', 247],\n",
    "                 user_per_group.loc[246],\n",
    "                 user_per_group.loc[247])"
   ]
  },
  {
   "cell_type": "markdown",
   "metadata": {},
   "source": [
    "Uji hipotesis dilakukan untuk kondisi sebagai berikut:\n",
    "- H0 jika id 246 dan 248 adalah SAMA\n",
    "- H1 jika id 246 dan 248 adalah TIDAK SAMA"
   ]
  },
  {
   "cell_type": "code",
   "execution_count": 64,
   "metadata": {},
   "outputs": [
    {
     "name": "stdout",
     "output_type": "stream",
     "text": [
      "p-value:  [0.34705881]\n",
      "Reject the null hypothesis: there is a significant difference between the shares\n"
     ]
    }
   ],
   "source": [
    "check_hypothesis_new(user_event_per_group.loc['MainScreenAppear', 246],\n",
    "                 user_event_per_group.loc['MainScreenAppear', 248],\n",
    "                 user_per_group.loc[246],\n",
    "                 user_per_group.loc[248])"
   ]
  },
  {
   "cell_type": "markdown",
   "metadata": {},
   "source": [
    "Uji hipotesis dilakukan untuk kondisi sebagai berikut:\n",
    "- H0 jika id 247 dan 248 adalah SAMA\n",
    "- H1 jika id 247 dan 248 adalah TIDAK SAMA"
   ]
  },
  {
   "cell_type": "code",
   "execution_count": 66,
   "metadata": {},
   "outputs": [
    {
     "name": "stdout",
     "output_type": "stream",
     "text": [
      "p-value:  [0.60016616]\n",
      "Failed to reject the null hypothesis, there is no reason to consider the shares different\n"
     ]
    }
   ],
   "source": [
    "check_hypothesis_new(user_event_per_group.loc['MainScreenAppear', 247],\n",
    "                 user_event_per_group.loc['MainScreenAppear', 248],\n",
    "                 user_per_group.loc[247],\n",
    "                 user_per_group.loc[248])"
   ]
  },
  {
   "cell_type": "markdown",
   "metadata": {},
   "source": [
    "## Kesimpulan"
   ]
  },
  {
   "cell_type": "markdown",
   "metadata": {},
   "source": [
    "Dari beberapa langkah pemrosesan data diatas, dapat diambil beberapa kesimpulan seperti:\n",
    "- Terdapat beberapa data duplikat pada tabel, yang telah dihilangkan.\n",
    "- Peningkatan jumlah pengguna meningkat pada tanggal 1 Agustus.\n",
    "- Data yang diproses lebih lanjut adalah sebesar 99% dari total data awal.\n",
    "- ID 246 dan 247 memiliki jumlah pengguna dan keduanya SAMA secara pengujian hipotesis.\n",
    "- ID 246 dan 248 memiliki jumlah pengguna dan keduanya SAMA secara pengujian hipotesis.\n",
    "- ID 247 dan 248 memiliki jumlah pengguna dan keduanya SAMA secara pengujian hipotesis."
   ]
  }
 ],
 "metadata": {
  "kernelspec": {
   "display_name": "Python 3 (ipykernel)",
   "language": "python",
   "name": "python3"
  },
  "language_info": {
   "codemirror_mode": {
    "name": "ipython",
    "version": 3
   },
   "file_extension": ".py",
   "mimetype": "text/x-python",
   "name": "python",
   "nbconvert_exporter": "python",
   "pygments_lexer": "ipython3",
   "version": "3.9.12"
  },
  "toc": {
   "base_numbering": 1,
   "nav_menu": {},
   "number_sections": true,
   "sideBar": true,
   "skip_h1_title": true,
   "title_cell": "Table of Contents",
   "title_sidebar": "Contents",
   "toc_cell": false,
   "toc_position": {},
   "toc_section_display": true,
   "toc_window_display": false
  }
 },
 "nbformat": 4,
 "nbformat_minor": 2
}
